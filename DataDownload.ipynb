{
 "cells": [
  {
   "cell_type": "code",
   "execution_count": 1,
   "metadata": {},
   "outputs": [],
   "source": [
    "import urllib.request\n",
    "import json\n",
    "import helper\n",
    "import pandas as pd\n",
    "from zipfile import ZipFile\n",
    "\n",
    "year = 2018\n",
    "#quarter_numfiles = [(1, 31)]\n",
    "#quarter_numfiles = [(2, 33)]\n",
    "#quarter_numfiles = [(3, 30)]\n",
    "quarter_numfiles = [(4, 30)]\n",
    "# Load data one quarter at a time...\n",
    "\n",
    "def get_url(y, q, n, i):\n",
    "    return f\"https://download.open.fda.gov/drug/event/{y}q{q}/drug-event-{i:04}-of-{n:04}.json.zip\"\n",
    "\n",
    "def get_urls(y, quarter_numfiles):\n",
    "    list = []\n",
    "    for q, n in quarter_numfiles:\n",
    "        list += [get_url(y, q, n, i) for i in range(1, n + 1)]\n",
    "    return list\n",
    "\n",
    "urls = get_urls(year, quarter_numfiles)"
   ]
  },
  {
   "cell_type": "code",
   "execution_count": 2,
   "metadata": {},
   "outputs": [],
   "source": [
    "def extract(df_list, u, fname):\n",
    "    # WARNING: mutating df_list\n",
    "    print(f'Downloading from {u} to {fname}...')\n",
    "    urllib.request.urlretrieve(u, fname)\n",
    "    with ZipFile(fname) as zfile:\n",
    "        fname = zfile.namelist()[0]\n",
    "        with zfile.open(fname) as f:\n",
    "            jsondata = json.load(f)\n",
    "            df = helper.get_reports_df(jsondata['results'])\n",
    "            df_list.append(df)"
   ]
  },
  {
   "cell_type": "code",
   "execution_count": 3,
   "metadata": {},
   "outputs": [
    {
     "name": "stdout",
     "output_type": "stream",
     "text": [
      "Downloading from https://download.open.fda.gov/drug/event/2018q4/drug-event-0001-of-0030.json.zip to ./data/data_0.zip...\n",
      "Downloading from https://download.open.fda.gov/drug/event/2018q4/drug-event-0002-of-0030.json.zip to ./data/data_1.zip...\n",
      "Downloading from https://download.open.fda.gov/drug/event/2018q4/drug-event-0003-of-0030.json.zip to ./data/data_2.zip...\n",
      "Downloading from https://download.open.fda.gov/drug/event/2018q4/drug-event-0004-of-0030.json.zip to ./data/data_3.zip...\n",
      "Downloading from https://download.open.fda.gov/drug/event/2018q4/drug-event-0005-of-0030.json.zip to ./data/data_4.zip...\n",
      "Downloading from https://download.open.fda.gov/drug/event/2018q4/drug-event-0006-of-0030.json.zip to ./data/data_5.zip...\n",
      "Downloading from https://download.open.fda.gov/drug/event/2018q4/drug-event-0007-of-0030.json.zip to ./data/data_6.zip...\n",
      "Downloading from https://download.open.fda.gov/drug/event/2018q4/drug-event-0008-of-0030.json.zip to ./data/data_7.zip...\n",
      "Downloading from https://download.open.fda.gov/drug/event/2018q4/drug-event-0009-of-0030.json.zip to ./data/data_8.zip...\n",
      "Downloading from https://download.open.fda.gov/drug/event/2018q4/drug-event-0010-of-0030.json.zip to ./data/data_9.zip...\n",
      "Downloading from https://download.open.fda.gov/drug/event/2018q4/drug-event-0011-of-0030.json.zip to ./data/data_10.zip...\n",
      "Downloading from https://download.open.fda.gov/drug/event/2018q4/drug-event-0012-of-0030.json.zip to ./data/data_11.zip...\n",
      "Downloading from https://download.open.fda.gov/drug/event/2018q4/drug-event-0013-of-0030.json.zip to ./data/data_12.zip...\n",
      "Downloading from https://download.open.fda.gov/drug/event/2018q4/drug-event-0014-of-0030.json.zip to ./data/data_13.zip...\n",
      "Downloading from https://download.open.fda.gov/drug/event/2018q4/drug-event-0015-of-0030.json.zip to ./data/data_14.zip...\n",
      "Downloading from https://download.open.fda.gov/drug/event/2018q4/drug-event-0016-of-0030.json.zip to ./data/data_15.zip...\n",
      "Downloading from https://download.open.fda.gov/drug/event/2018q4/drug-event-0017-of-0030.json.zip to ./data/data_16.zip...\n",
      "Downloading from https://download.open.fda.gov/drug/event/2018q4/drug-event-0018-of-0030.json.zip to ./data/data_17.zip...\n",
      "Downloading from https://download.open.fda.gov/drug/event/2018q4/drug-event-0019-of-0030.json.zip to ./data/data_18.zip...\n",
      "Downloading from https://download.open.fda.gov/drug/event/2018q4/drug-event-0020-of-0030.json.zip to ./data/data_19.zip...\n",
      "Downloading from https://download.open.fda.gov/drug/event/2018q4/drug-event-0021-of-0030.json.zip to ./data/data_20.zip...\n",
      "Downloading from https://download.open.fda.gov/drug/event/2018q4/drug-event-0022-of-0030.json.zip to ./data/data_21.zip...\n",
      "Downloading from https://download.open.fda.gov/drug/event/2018q4/drug-event-0023-of-0030.json.zip to ./data/data_22.zip...\n",
      "Downloading from https://download.open.fda.gov/drug/event/2018q4/drug-event-0024-of-0030.json.zip to ./data/data_23.zip...\n",
      "Downloading from https://download.open.fda.gov/drug/event/2018q4/drug-event-0025-of-0030.json.zip to ./data/data_24.zip...\n",
      "Downloading from https://download.open.fda.gov/drug/event/2018q4/drug-event-0026-of-0030.json.zip to ./data/data_25.zip...\n",
      "Downloading from https://download.open.fda.gov/drug/event/2018q4/drug-event-0027-of-0030.json.zip to ./data/data_26.zip...\n",
      "Downloading from https://download.open.fda.gov/drug/event/2018q4/drug-event-0028-of-0030.json.zip to ./data/data_27.zip...\n",
      "Downloading from https://download.open.fda.gov/drug/event/2018q4/drug-event-0029-of-0030.json.zip to ./data/data_28.zip...\n",
      "Downloading from https://download.open.fda.gov/drug/event/2018q4/drug-event-0030-of-0030.json.zip to ./data/data_29.zip...\n"
     ]
    }
   ],
   "source": [
    "file_i = 0\n",
    "df_list = []\n",
    "for i in range(len(urls)):\n",
    "    file_name = f'./data/data_{i}.zip'\n",
    "    try:\n",
    "        extract(df_list, urls[i], file_name)\n",
    "    except Exception as e:\n",
    "        print(f'data extraction failed for {i}, please retry! Error: {e}')"
   ]
  },
  {
   "cell_type": "code",
   "execution_count": null,
   "metadata": {},
   "outputs": [],
   "source": [
    "# In case of error"
   ]
  },
  {
   "cell_type": "code",
   "execution_count": 4,
   "metadata": {},
   "outputs": [],
   "source": [
    "df_all = pd.concat(df_list, ignore_index=True, sort=True)\n",
    "df_all.to_csv(f'./data/data_{year}_q{quarter_numfiles[0][0]}.csv')  # save to a csv file"
   ]
  },
  {
   "cell_type": "code",
   "execution_count": null,
   "metadata": {},
   "outputs": [],
   "source": []
  }
 ],
 "metadata": {
  "kernelspec": {
   "display_name": "Python 3",
   "language": "python",
   "name": "python3"
  },
  "language_info": {
   "codemirror_mode": {
    "name": "ipython",
    "version": 3
   },
   "file_extension": ".py",
   "mimetype": "text/x-python",
   "name": "python",
   "nbconvert_exporter": "python",
   "pygments_lexer": "ipython3",
   "version": "3.7.3"
  }
 },
 "nbformat": 4,
 "nbformat_minor": 2
}
